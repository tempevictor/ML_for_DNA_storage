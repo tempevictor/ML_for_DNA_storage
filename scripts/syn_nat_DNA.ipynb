{
 "cells": [
  {
   "cell_type": "markdown",
   "metadata": {},
   "source": [
    "## Compare synthetic and natural DNA"
   ]
  },
  {
   "cell_type": "markdown",
   "metadata": {},
   "source": [
    "### Imports"
   ]
  },
  {
   "cell_type": "code",
   "execution_count": 1,
   "metadata": {},
   "outputs": [
    {
     "data": {
      "text/plain": "''"
     },
     "execution_count": 1,
     "metadata": {},
     "output_type": "execute_result"
    }
   ],
   "source": [
    "import numpy as np\n",
    "import h5py\n",
    "import os\n",
    "import sys\n",
    "import glob\n",
    "import tkinter as tk\n",
    "from tkinter import filedialog\n",
    "import matplotlib.pyplot as plt\n",
    "import time\n",
    "\n",
    "root = tk.Tk()\n",
    "root.withdraw()"
   ]
  },
  {
   "cell_type": "markdown",
   "metadata": {},
   "source": [
    "## Comparison "
   ]
  },
  {
   "cell_type": "code",
   "execution_count": 96,
   "metadata": {},
   "outputs": [],
   "source": [
    "# get various statistics about the raw signals\n",
    "# inpuit must be fast5 files\n",
    "def get_stats(folder, f5_type):\n",
    "    start_time = time.time()\n",
    "    limit = 1e6\n",
    "    count = 0\n",
    "    std_list = []\n",
    "    med_list = []\n",
    "    mean_list = []\n",
    "    perc25 = []\n",
    "    perc75 = []\n",
    "    signal_size_list = []\n",
    "    files = glob.glob(folder + \"/*.fast5\")\n",
    "    for fast5File in files:\n",
    "\n",
    "        if not fast5File.endswith('fast5'):\n",
    "            print(\"Not a fast5 file\")\n",
    "            return\n",
    "        try:\n",
    "            fast5_data = h5py.File(fast5File, 'r')\n",
    "        except IOError:\n",
    "            print('Error opening file')\n",
    "            return\n",
    "\n",
    "        if f5_type == 'multi':\n",
    "            read_list = list(fast5_data.items())\n",
    "            for i in range(len(read_list)):\n",
    "                readstep = (read_list[i])\n",
    "                read = readstep[0]\n",
    "                raw_id = fast5_data[read+'/Raw'].attrs['read_id'].decode('UTF-8')\n",
    "                signal_path = read + '/Raw/Signal'\n",
    "                # get the read_id\n",
    "                read_id = fast5_data[read+'/Raw'].attrs['read_id'].decode('UTF-8')\n",
    "                # get the signal\n",
    "                \n",
    "                raw_signal = np.array(fast5_data.get(signal_path), dtype=np.float32)\n",
    "\n",
    "                if(count < limit):\n",
    "                    mean = np.mean(raw_signal)\n",
    "                    med = np.median(raw_signal)\n",
    "                    std = np.std(raw_signal)\n",
    "                    percentiles = np.percentile(raw_signal, [0, 25, 50, 75, 100])\n",
    "                    per_high = percentiles[3]\n",
    "                    per_low = percentiles[1]\n",
    "\n",
    "                    mean_list.append(mean)\n",
    "                    med_list.append(med)\n",
    "                    std_list.append(std)\n",
    "                    perc25.append(per_low)\n",
    "                    perc75.append(per_high)\n",
    "                    signal_size_list.append(len(raw_signal))\n",
    "\n",
    "                    count+= 1\n",
    "                \n",
    "                else:\n",
    "                    break\n",
    "\n",
    "        elif f5_type == 'single':\n",
    "\n",
    "                raw_attr = fast5_data['Raw/Reads/']\n",
    "                read_name = list(raw_attr.keys())[0]\n",
    "                raw_dat = raw_attr[read_name + '/Signal'][()]\n",
    "                # get the signal\n",
    "                \n",
    "                raw_signal = np.array(raw_dat, dtype=np.float32)\n",
    "\n",
    "                if(count < limit):\n",
    "                    mean = np.mean(raw_signal)\n",
    "                    med = np.median(raw_signal)\n",
    "                    std = np.std(raw_signal)\n",
    "                    percentiles = np.percentile(raw_signal, [0, 25, 50, 75, 100])\n",
    "                    per_high = percentiles[3]\n",
    "                    per_low = percentiles[1]\n",
    "\n",
    "                    mean_list.append(mean)\n",
    "                    med_list.append(med)\n",
    "                    std_list.append(std)\n",
    "                    perc25.append(per_low)\n",
    "                    perc75.append(per_high)\n",
    "                    signal_size_list.append(len(raw_signal))\n",
    "\n",
    "                    count+= 1\n",
    "                \n",
    "                else:\n",
    "                    break\n",
    "\n",
    "        else:\n",
    "            print('unkown f5 type')\n",
    "            \n",
    "        fast5_data.close()\n",
    "        \n",
    "    if count == limit:\n",
    "        print(\"Limit reached\")\n",
    "    else:\n",
    "        print(\"Limit not reached, count\", count)\n",
    "\n",
    "    mean_list = np.array(mean_list)\n",
    "    med_list = np.array(med_list)\n",
    "    std_list = np.array(std_list)\n",
    "    perc25 = np.array(perc25)\n",
    "    perc75 = np.array(perc75)\n",
    "    signal_size_list = np.array(signal_size_list)\n",
    "\n",
    "    dic = {'mean': mean_list,\n",
    "           'med': med_list,\n",
    "           'std': std_list,\n",
    "           'quant 25': perc25,\n",
    "           'quant 75': perc75,\n",
    "           'length' : signal_size_list}\n",
    "\n",
    "    print(\"Time \" + folder + \" :\" + str(time.time() - start_time))\n",
    "    return dic\n",
    "\n",
    "\n",
    "\n",
    "\n",
    "# data visualisation of statistics\n",
    "def display_stats(dna_synth, dna_nat, save = True):\n",
    "\n",
    "    # data\n",
    "    height_synth = []\n",
    "    height_nat = []\n",
    "    bars = []\n",
    "    for key in dna_synth:\n",
    "        if key != 'length':\n",
    "            bars.append(key)\n",
    "            height_synth.append(np.mean(dna_synth[key]))\n",
    "            height_nat.append(np.mean(dna_nat[key]))\n",
    "\n",
    "    # bar chart \n",
    "    x_pos = np.arange(len(bars))\n",
    "    plt.xticks(2*x_pos + 0.5, bars)\n",
    "    plt.title('Natural vs Synthetic DNA statistics')\n",
    "    plt.bar(np.arange(0, 2*len(bars), 2) + 0.1, height_synth, color = 'brown', label = 'Synthetic')\n",
    "    plt.bar(np.arange(1, 2*len(bars), 2) - 0.1, height_nat, color = 'green', label = 'Natural')\n",
    "    plt.legend(loc='lower center', bbox_to_anchor=(1.05, 1))\n",
    "    if save:\n",
    "        plt.savefig(\"/media/victor/USB/MSc_basecall/bar_nat_synth.png\")\n",
    "    plt.show()\n",
    "\n",
    "\n",
    "\n",
    "\n",
    "# bar chart to compare lengths\n",
    "def display_lengths(dna_synth, dna_nat, save = True):\n",
    "    # bar chart for lengths comparison\n",
    "    plt.title('Natural vs Synthetic DNA for lengths')\n",
    "    synth_lenths = dna_synth['length']\n",
    "    nat_lengths = dna_nat['length']\n",
    "    heights_synth = [np.mean(synth_lenths), np.median(synth_lenths)]\n",
    "    heights_nat = [np.mean(nat_lengths), np.median(nat_lengths)]\n",
    "    bars = ['mean len', 'median len']\n",
    "    plt.xticks(2*np.arange(len(bars)) + 0.5, bars)\n",
    "    plt.bar(np.arange(0, 2*len(bars), 2) + 0.1, heights_synth, color = 'brown', label = 'Synthetic')\n",
    "    plt.bar(np.arange(1, 2*len(bars), 2) - 0.1, heights_nat, color = 'green', label = 'Natural')\n",
    "    plt.legend(loc='lower center', bbox_to_anchor=(1.05, 1))\n",
    "    if save:\n",
    "        plt.savefig(\"/media/victor/USB/MSc_basecall/bar_nat_synth_len.png\")\n",
    "    plt.show()\n",
    "\n",
    "    \n",
    "\n",
    "\n",
    "\n",
    "\n",
    "# main\n",
    "def main(folder_synth, folder_nat):\n",
    "    dna_synth = get_stats(folder_synth, 'multi')\n",
    "    dna_nat = get_stats(folder_nat, 'single')\n",
    "    display_stats(dna_synth, dna_nat, save = False)\n",
    "    display_lengths(dna_synth, dna_nat, save = False)\n",
    "\n"
   ]
  },
  {
   "cell_type": "code",
   "execution_count": 36,
   "metadata": {},
   "outputs": [
    {
     "name": "stdout",
     "output_type": "stream",
     "text": [
      "Limit reached\n"
     ]
    }
   ],
   "source": [
    "folder_synth = filedialog.askdirectory()\n",
    "folder_nat = filedialog.askdirectory()\n",
    "\n",
    "dna_synth = get_stats(folder_synth, 'multi')\n",
    "dna_nat = get_stats(folder_nat, 'single')"
   ]
  },
  {
   "cell_type": "code",
   "execution_count": 37,
   "metadata": {},
   "outputs": [
    {
     "data": {
      "image/png": "[encoded data removed]",
      "text/plain": "<Figure size 432x288 with 1 Axes>"
     },
     "metadata": {
      "needs_background": "light"
     },
     "output_type": "display_data"
    }
   ],
   "source": [
    "display_stats(dna_synth, dna_nat)\n"
   ]
  },
  {
   "cell_type": "code",
   "execution_count": 97,
   "metadata": {},
   "outputs": [
    {
     "name": "stdout",
     "output_type": "stream",
     "text": [
      "Limit reached\n",
      "Time /media/victor/USB/MSc_basecall/Data/mix_compare_dna/synth :46.53959012031555\n",
      "Limit not reached, count 2628\n",
      "Time /media/victor/USB/MSc_basecall/Data/mix_compare_dna/nat_full :35.474735260009766\n"
     ]
    }
   ],
   "source": [
    "folder_synth = filedialog.askdirectory()\n",
    "folder_nat = filedialog.askdirectory()\n",
    "\n",
    "dna_synth = get_stats(folder_synth, 'multi')\n",
    "dna_nat2 = get_stats(folder_nat, 'single')"
   ]
  },
  {
   "cell_type": "code",
   "execution_count": 98,
   "metadata": {},
   "outputs": [
    {
     "data": {
      "image/png": "[encoded data removed]",
      "text/plain": "<Figure size 432x288 with 1 Axes>"
     },
     "metadata": {
      "needs_background": "light"
     },
     "output_type": "display_data"
    },
    {
     "data": {
      "image/png": "[encoded data removed]",
      "text/plain": "<Figure size 432x288 with 1 Axes>"
     },
     "metadata": {
      "needs_background": "light"
     },
     "output_type": "display_data"
    }
   ],
   "source": [
    "display_stats(dna_synth, dna_nat2)\n",
    "display_lengths\n",
    "(dna_synth, dna_nat2)"
   ]
  },
  {
   "cell_type": "code",
   "execution_count": null,
   "metadata": {},
   "outputs": [],
   "source": []
  }
 ],
 "metadata": {
  "kernelspec": {
   "display_name": "Python 3.7.7 64-bit ('base': conda)",
   "name": "python377jvsc74a57bd01542ee2726d20ca6ce38c73be6f1d0781bc1da10a4a2880694256f254b885628"
  },
  "language_info": {
   "codemirror_mode": {
    "name": "ipython",
    "version": 3
   },
   "file_extension": ".py",
   "mimetype": "text/x-python",
   "name": "python",
   "nbconvert_exporter": "python",
   "pygments_lexer": "ipython3",
   "version": "3.7.7"
  },
  "orig_nbformat": 2
 },
 "nbformat": 4,
 "nbformat_minor": 2
}