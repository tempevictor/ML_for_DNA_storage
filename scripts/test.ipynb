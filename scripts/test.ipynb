{
 "cells": [
  {
   "cell_type": "code",
   "execution_count": 1,
   "metadata": {
    "tags": []
   },
   "outputs": [
    {
     "name": "stdout",
     "output_type": "stream",
     "text": [
      "False\n"
     ]
    }
   ],
   "source": [
    "#inspect fast5 files\n",
    "\n",
    "import h5py\n",
    "import numpy as np\n",
    "import tkinter as tk\n",
    "from tkinter import filedialog\n",
    "\n",
    "root = tk.Tk()\n",
    "root.withdraw()\n",
    "\n",
    "input_file = filedialog.askopenfilename()\n",
    "#input_file = \"/media/victor/USB/MSc_basecall/Data/eins3_all/fast5s/1a/FAN19880_6b31a602_0.fast5\"\n",
    "if not input_file.endswith('fast5'):\n",
    "    print(1)\n",
    "try:\n",
    "    fast5_data = h5py.File(input_file, 'r')\n",
    "except IOError:\n",
    "    print('Error opening file. Likely a corrupted file.')\n",
    "\n",
    "\n",
    "#raw_attr = fast5_data['Raw/Reads/']\n",
    "\n",
    "read_list = list(fast5_data.items())\n",
    "raw_ids = []\n",
    "\n",
    "for i in range(len(read_list)):\n",
    "    readstep = (read_list[i])\n",
    "    read = readstep[0]\n",
    "    raw_ids.append( fast5_data[read+'/Raw'].attrs['read_id'].decode('UTF-8') )\n",
    "    #signal_path = read + '/channel_id/channel_number'#/read_id\n",
    "    #raw_ids.append(  fast5_data[read+'/channel_id'].attrs['channel_number'].decode('UTF-8') )\n",
    "print(\"bf5c2a74-b1e9-4929-b6a4-d6939ac2dcf2\" in raw_ids)"
   ]
  },
  {
   "cell_type": "code",
   "execution_count": 22,
   "metadata": {},
   "outputs": [
    {
     "data": {
      "text/plain": [
       "False"
      ]
     },
     "execution_count": 22,
     "metadata": {},
     "output_type": "execute_result"
    }
   ],
   "source": [
    "a = False\n",
    "a== None"
   ]
  },
  {
   "cell_type": "code",
   "execution_count": 10,
   "metadata": {},
   "outputs": [
    {
     "name": "stdout",
     "output_type": "stream",
     "text": [
      "CTACAACGCAGATTACAACCTCAGTTATGAGGACGAATCTCCCGCTTATATATGAGGACGAATCTCCCGCTTATATATGAGGACGAATCTCCCGCTTATACCATCCTTGCCAGCGTTACCCTACAACGCAGATTACAACCTCAGTGGTCTTGACAAACGTGTGCTTGTACGGTCTTGACAAACGTGTGCTTGTACGGTCTTGACAAACGTGTGCTTGTACCCATCCTTGCCAGCGTTACCCTACAACGCAGATTACAACCTCAGTGTTTATCGGGCGTGGTGCTCGCATAGTTTATCGGGCGTGGTGCTCGCATAGTTTATCGGGCGTGGTGCTCGCATACCATCCTTGCCAGCGTTACCCTACAACGCAGATTACAACCTCAGTCCGATGTTGACGGACTAATCCTGACCCGATGTTGACGGACTAATCCTGACCCGATGTTGACGGACTAATCCTGACCCATCCTTGCCAGCGTTACCCTACAACGCAGATTACAACCTCAGTTAGTAGTTCAGACGCCGTTAAGCGCTAGTAGTTCAGACGCCGTTAAGCGCTAGTAGTTCAGACGCCGTTAAGCGCCCATCCTTGCCAGCGTTACCCTACAACGCAGATTACAACCTCAGTCCGTACCTAGATACACTCAATTTGTCCGTACCTAGATACACTCAATTTGTCCGTACCTAGATACACTCAATTTGTCCATCCTTGCCAGCGTTACC\n",
      "\n",
      "\n",
      "\n",
      "CTACAACGCAGATTACAACCTCAGTTATGAGGACGAATCTCCCGCTTATATATGAGGACGAATCTCCCGCTTATATATGAGGACGAATCTCCCGCTTATACCATCCTTGCCAGCGTTACC\n",
      "CTACAACGCAGATTACAACCTCAGTGGTCTTGACAAACGTGTGCTTGTACGGTCTTGACAAACGTGTGCTTGTACGGTCTTGACAAACGTGTGCTTGTACCCATCCTTGCCAGCGTTACC\n",
      "CTACAACGCAGATTACAACCTCAGTGTTTATCGGGCGTGGTGCTCGCATAGTTTATCGGGCGTGGTGCTCGCATAGTTTATCGGGCGTGGTGCTCGCATACCATCCTTGCCAGCGTTACC\n",
      "CTACAACGCAGATTACAACCTCAGTCCGATGTTGACGGACTAATCCTGACCCGATGTTGACGGACTAATCCTGACCCGATGTTGACGGACTAATCCTGACCCATCCTTGCCAGCGTTACC\n",
      "CTACAACGCAGATTACAACCTCAGTTAGTAGTTCAGACGCCGTTAAGCGCTAGTAGTTCAGACGCCGTTAAGCGCTAGTAGTTCAGACGCCGTTAAGCGCCCATCCTTGCCAGCGTTACC\n",
      "CTACAACGCAGATTACAACCTCAGTCCGTACCTAGATACACTCAATTTGTCCGTACCTAGATACACTCAATTTGTCCGTACCTAGATACACTCAATTTGTCCATCCTTGCCAGCGTTACC\n",
      "\n"
     ]
    }
   ],
   "source": [
    "s = ''\n",
    "ss = ''\n",
    "with open('/media/victor/USB/MSc_basecall/Data/3XR6/ref_3xr6/3xr6.tsv', \"r\") as inputfile:\n",
    "    for i, line in enumerate(inputfile):\n",
    "        if(i>5):\n",
    "            break\n",
    "        content = line.strip().split('\\t')\n",
    "        s+=content[1]\n",
    "        ss+= content[1] + \"\\n\"\n",
    "print(s)\n",
    "print('\\n\\n')\n",
    "print(ss)"
   ]
  },
  {
   "cell_type": "code",
   "execution_count": 30,
   "metadata": {},
   "outputs": [
    {
     "name": "stdout",
     "output_type": "stream",
     "text": [
      "                                   Name  Length  Identity  Relative length\n",
      "0  00009f20-d8ee-4446-884b-6b73cee4d397     132       0.0              NaN\n",
      "1  0001a7a6-cd33-4605-ad49-4d0844cfae57     151       0.0              NaN\n",
      "2  00021be9-02a9-4c6c-8d5d-1f561e13a2b2      69       0.0              NaN\n",
      "3  00032f88-aa0c-4abb-bb2a-914fee09f687      44       0.0              NaN\n",
      "4  0003a4e5-b6e8-47f1-b030-48286fba86b8     101       0.0              NaN\n",
      "5  0004bd44-cea8-46f3-82d9-ed732e973440     137       0.0              NaN\n",
      "6  000514c0-f7c0-4311-9a7d-93497d0cc198     174       0.0              NaN\n",
      "7  00058f63-c63f-4b55-8e48-60a08db70f17      69       0.0              NaN\n"
     ]
    },
    {
     "data": {
      "text/plain": "8"
     },
     "execution_count": 30,
     "metadata": {},
     "output_type": "execute_result"
    }
   ],
   "source": [
    "import pandas as pd\n",
    "\n",
    "read_alignment_file = \"~/Desktop/pand_database_example.tsv\"\n",
    "df = pd.read_csv(read_alignment_file, header=0, sep='\\t')\n",
    "print(df)\n",
    "identities = df['Identity']\n",
    "len(identities[identities==0])\n",
    "\n",
    "\n"
   ]
  },
  {
   "cell_type": "code",
   "execution_count": 23,
   "metadata": {},
   "outputs": [
    {
     "data": {
      "text/plain": "'0:01:12.270814'"
     },
     "execution_count": 23,
     "metadata": {},
     "output_type": "execute_result"
    }
   ],
   "source": [
    "import datetime\n",
    "import time\n",
    "\n",
    "start_time = datetime.datetime.now()\n",
    "time.sleep(72.2)\n",
    "end_time = datetime.datetime.now()\n",
    "str(end_time - start_time)"
   ]
  },
  {
   "cell_type": "code",
   "execution_count": 85,
   "metadata": {},
   "outputs": [
    {
     "data": {
      "text/html": "<div>\n<style scoped>\n    .dataframe tbody tr th:only-of-type {\n        vertical-align: middle;\n    }\n\n    .dataframe tbody tr th {\n        vertical-align: top;\n    }\n\n    .dataframe thead th {\n        text-align: right;\n    }\n</style>\n<table border=\"1\" class=\"dataframe\">\n  <thead>\n    <tr style=\"text-align: right;\">\n      <th></th>\n      <th>Name</th>\n      <th>Length</th>\n      <th>Identity</th>\n      <th>Relative length</th>\n    </tr>\n  </thead>\n  <tbody>\n    <tr>\n      <th>87</th>\n      <td>005cdd5f-0dff-487a-b60a-9a1978dbaca3</td>\n      <td>153</td>\n      <td>97.59036</td>\n      <td>100.00000</td>\n    </tr>\n    <tr>\n      <th>196</th>\n      <td>00c90f9a-addb-462b-89ee-3ef622420b9e</td>\n      <td>135</td>\n      <td>96.01224</td>\n      <td>95.83333</td>\n    </tr>\n    <tr>\n      <th>218</th>\n      <td>00dec1fb-4dc6-48d0-a69f-c74770bfcdd6</td>\n      <td>194</td>\n      <td>93.00000</td>\n      <td>97.97980</td>\n    </tr>\n    <tr>\n      <th>293</th>\n      <td>014129ee-5213-4cc5-ac34-d57daa283a32</td>\n      <td>153</td>\n      <td>90.00000</td>\n      <td>100.00000</td>\n    </tr>\n    <tr>\n      <th>365</th>\n      <td>017704f9-e1e4-4faa-911c-9c76fd06bbd5</td>\n      <td>133</td>\n      <td>94.11765</td>\n      <td>94.11765</td>\n    </tr>\n    <tr>\n      <th>484</th>\n      <td>01f57d47-4ce1-4016-b059-27dcf5d99cc7</td>\n      <td>158</td>\n      <td>96.15385</td>\n      <td>101.96078</td>\n    </tr>\n    <tr>\n      <th>626</th>\n      <td>0292bf09-4e57-4056-a74c-5e7ad36fa594</td>\n      <td>159</td>\n      <td>95.45455</td>\n      <td>97.70115</td>\n    </tr>\n    <tr>\n      <th>656</th>\n      <td>02b188d3-c261-443e-8ede-fdd1f99c3f5c</td>\n      <td>163</td>\n      <td>87.71930</td>\n      <td>98.23009</td>\n    </tr>\n    <tr>\n      <th>695</th>\n      <td>02daccad-a2e2-4b88-9b6a-ae5c3d9f6e27</td>\n      <td>128</td>\n      <td>94.04762</td>\n      <td>98.79518</td>\n    </tr>\n    <tr>\n      <th>850</th>\n      <td>037491fb-d297-4fc5-bea3-9aae8ebd151d</td>\n      <td>164</td>\n      <td>84.76190</td>\n      <td>96.03960</td>\n    </tr>\n    <tr>\n      <th>868</th>\n      <td>038d0133-7e58-4a5b-8b63-77de717670a2</td>\n      <td>151</td>\n      <td>91.96429</td>\n      <td>98.18182</td>\n    </tr>\n    <tr>\n      <th>893</th>\n      <td>03a1881e-b4c4-4528-bccc-867cd7252fc4</td>\n      <td>99</td>\n      <td>98.38710</td>\n      <td>100.00000</td>\n    </tr>\n    <tr>\n      <th>928</th>\n      <td>03c7304a-76eb-42fa-9fb9-d31215858fee</td>\n      <td>138</td>\n      <td>97.53086</td>\n      <td>101.25000</td>\n    </tr>\n    <tr>\n      <th>954</th>\n      <td>03e347cc-52db-43c0-b701-5049a1dd546c</td>\n      <td>160</td>\n      <td>91.01124</td>\n      <td>91.01124</td>\n    </tr>\n    <tr>\n      <th>1052</th>\n      <td>045dd5e2-aea6-46d1-9cee-5e36176e3164</td>\n      <td>139</td>\n      <td>84.21053</td>\n      <td>96.36364</td>\n    </tr>\n    <tr>\n      <th>1080</th>\n      <td>047176ea-c7c6-4ab5-92c1-7803667540cc</td>\n      <td>139</td>\n      <td>94.80519</td>\n      <td>104.05405</td>\n    </tr>\n    <tr>\n      <th>1089</th>\n      <td>04784cdb-760b-4c48-a19b-85daa953790f</td>\n      <td>311</td>\n      <td>93.53741</td>\n      <td>94.09449</td>\n    </tr>\n    <tr>\n      <th>1095</th>\n      <td>047be305-cbcc-4b16-b825-7c29ac95c04f</td>\n      <td>124</td>\n      <td>94.94949</td>\n      <td>97.95918</td>\n    </tr>\n    <tr>\n      <th>1100</th>\n      <td>0483af7c-49d1-4639-8d24-b9673d475ef4</td>\n      <td>152</td>\n      <td>94.96104</td>\n      <td>98.05195</td>\n    </tr>\n    <tr>\n      <th>1106</th>\n      <td>048aed55-5d93-4ae3-b451-66a3b47ad86a</td>\n      <td>120</td>\n      <td>95.00000</td>\n      <td>100.00000</td>\n    </tr>\n    <tr>\n      <th>1109</th>\n      <td>048de202-23c0-4022-978a-5d2a611a39df</td>\n      <td>152</td>\n      <td>91.75258</td>\n      <td>102.17391</td>\n    </tr>\n    <tr>\n      <th>1132</th>\n      <td>049f755a-5eb0-4d0b-9c82-f1b4b6b582a9</td>\n      <td>107</td>\n      <td>98.57143</td>\n      <td>101.44928</td>\n    </tr>\n    <tr>\n      <th>1155</th>\n      <td>04b4076e-fdf7-4fb8-8073-0351ebc32ddd</td>\n      <td>118</td>\n      <td>95.78947</td>\n      <td>100.00000</td>\n    </tr>\n    <tr>\n      <th>1201</th>\n      <td>04e05d30-f938-45ec-87e9-7a3edecbb604</td>\n      <td>146</td>\n      <td>91.86047</td>\n      <td>95.34884</td>\n    </tr>\n    <tr>\n      <th>1202</th>\n      <td>04e0d9f0-5eb8-4df6-bf6d-263f2f106f69</td>\n      <td>138</td>\n      <td>91.17647</td>\n      <td>96.96970</td>\n    </tr>\n    <tr>\n      <th>1220</th>\n      <td>04ef2916-ddfe-4667-966c-02ee45d2e3aa</td>\n      <td>145</td>\n      <td>88.54167</td>\n      <td>103.33333</td>\n    </tr>\n    <tr>\n      <th>1273</th>\n      <td>052b4df8-91ce-48b6-a678-5c4d9ec4a2ca</td>\n      <td>120</td>\n      <td>92.94118</td>\n      <td>101.21951</td>\n    </tr>\n    <tr>\n      <th>1383</th>\n      <td>05921b0a-0443-488d-b4ec-d48a716c7cba</td>\n      <td>100</td>\n      <td>96.10390</td>\n      <td>96.10390</td>\n    </tr>\n    <tr>\n      <th>1490</th>\n      <td>05ff7c16-3386-4925-9e8d-7bf97e01d93c</td>\n      <td>122</td>\n      <td>97.10145</td>\n      <td>100.00000</td>\n    </tr>\n    <tr>\n      <th>1493</th>\n      <td>0602419c-79f0-4069-ac95-6d69526fe77f</td>\n      <td>129</td>\n      <td>90.90909</td>\n      <td>95.91837</td>\n    </tr>\n    <tr>\n      <th>1535</th>\n      <td>062e6447-0f62-4b3a-83d9-95964046a8a1</td>\n      <td>168</td>\n      <td>95.28302</td>\n      <td>98.09524</td>\n    </tr>\n    <tr>\n      <th>1612</th>\n      <td>0690bcac-dc8d-460c-a827-f6e47f4789ca</td>\n      <td>118</td>\n      <td>100.00000</td>\n      <td>100.00000</td>\n    </tr>\n    <tr>\n      <th>1636</th>\n      <td>06abb230-e7a1-4f7e-b2be-6c95e8592de8</td>\n      <td>187</td>\n      <td>93.45794</td>\n      <td>100.00000</td>\n    </tr>\n    <tr>\n      <th>1737</th>\n      <td>07132741-1463-4e24-84a8-e5ac26a1fa8a</td>\n      <td>161</td>\n      <td>92.98246</td>\n      <td>101.81818</td>\n    </tr>\n    <tr>\n      <th>1787</th>\n      <td>07476b92-65ec-4e7b-af55-6b3ebd3d5b28</td>\n      <td>168</td>\n      <td>96.26168</td>\n      <td>100.95238</td>\n    </tr>\n    <tr>\n      <th>1876</th>\n      <td>07971997-8c19-416c-af8e-37c5cfd5912d</td>\n      <td>147</td>\n      <td>94.79167</td>\n      <td>98.94737</td>\n    </tr>\n    <tr>\n      <th>1894</th>\n      <td>07a3d4f9-5f1e-4eab-b48b-096a53a58c40</td>\n      <td>125</td>\n      <td>90.10989</td>\n      <td>93.33333</td>\n    </tr>\n    <tr>\n      <th>1978</th>\n      <td>0800db86-e05e-4101-9c12-90b39018a478</td>\n      <td>137</td>\n      <td>97.14286</td>\n      <td>100.00000</td>\n    </tr>\n    <tr>\n      <th>2026</th>\n      <td>083b751b-0672-4eb8-9dba-e16f19fbc56f</td>\n      <td>167</td>\n      <td>94.49541</td>\n      <td>101.86916</td>\n    </tr>\n    <tr>\n      <th>2115</th>\n      <td>08a187b7-8171-4227-b710-e86e94e47666</td>\n      <td>163</td>\n      <td>84.46602</td>\n      <td>100.00000</td>\n    </tr>\n    <tr>\n      <th>2209</th>\n      <td>08f94ff8-4ba5-407f-900f-74460b336a02</td>\n      <td>150</td>\n      <td>94.54545</td>\n      <td>112.43243</td>\n    </tr>\n    <tr>\n      <th>2283</th>\n      <td>094a531c-90f0-48df-b266-3836b6ac485b</td>\n      <td>114</td>\n      <td>94.33962</td>\n      <td>103.96040</td>\n    </tr>\n    <tr>\n      <th>2376</th>\n      <td>098e714c-3921-4405-9219-afe7992ac324</td>\n      <td>106</td>\n      <td>100.00000</td>\n      <td>100.00000</td>\n    </tr>\n    <tr>\n      <th>2387</th>\n      <td>099baf91-5e22-4713-9f21-9af4f550de22</td>\n      <td>118</td>\n      <td>99.51557</td>\n      <td>100.74627</td>\n    </tr>\n    <tr>\n      <th>2402</th>\n      <td>09abd272-7f38-461a-bca1-4d6bc849d502</td>\n      <td>130</td>\n      <td>100.00000</td>\n      <td>100.00000</td>\n    </tr>\n    <tr>\n      <th>2410</th>\n      <td>09b17194-235a-42dd-b31a-38ebd2d54c8a</td>\n      <td>207</td>\n      <td>92.98079</td>\n      <td>98.75000</td>\n    </tr>\n    <tr>\n      <th>2547</th>\n      <td>0a3df1d3-67df-43b0-b81c-0a358ad401cf</td>\n      <td>124</td>\n      <td>93.97590</td>\n      <td>105.06329</td>\n    </tr>\n    <tr>\n      <th>2592</th>\n      <td>0a71f500-8949-4e4d-8979-64b896eda164</td>\n      <td>161</td>\n      <td>95.34884</td>\n      <td>98.83721</td>\n    </tr>\n    <tr>\n      <th>2607</th>\n      <td>0a7d5aa8-72fe-452b-bdff-587c07814530</td>\n      <td>146</td>\n      <td>92.45283</td>\n      <td>98.09524</td>\n    </tr>\n    <tr>\n      <th>2647</th>\n      <td>0aa30776-3888-4ece-98c2-6ced81503555</td>\n      <td>113</td>\n      <td>93.93939</td>\n      <td>98.46154</td>\n    </tr>\n  </tbody>\n</table>\n</div>",
      "text/plain": "                                      Name  Length   Identity  Relative length\n87    005cdd5f-0dff-487a-b60a-9a1978dbaca3     153   97.59036        100.00000\n196   00c90f9a-addb-462b-89ee-3ef622420b9e     135   96.01224         95.83333\n218   00dec1fb-4dc6-48d0-a69f-c74770bfcdd6     194   93.00000         97.97980\n293   014129ee-5213-4cc5-ac34-d57daa283a32     153   90.00000        100.00000\n365   017704f9-e1e4-4faa-911c-9c76fd06bbd5     133   94.11765         94.11765\n484   01f57d47-4ce1-4016-b059-27dcf5d99cc7     158   96.15385        101.96078\n626   0292bf09-4e57-4056-a74c-5e7ad36fa594     159   95.45455         97.70115\n656   02b188d3-c261-443e-8ede-fdd1f99c3f5c     163   87.71930         98.23009\n695   02daccad-a2e2-4b88-9b6a-ae5c3d9f6e27     128   94.04762         98.79518\n850   037491fb-d297-4fc5-bea3-9aae8ebd151d     164   84.76190         96.03960\n868   038d0133-7e58-4a5b-8b63-77de717670a2     151   91.96429         98.18182\n893   03a1881e-b4c4-4528-bccc-867cd7252fc4      99   98.38710        100.00000\n928   03c7304a-76eb-42fa-9fb9-d31215858fee     138   97.53086        101.25000\n954   03e347cc-52db-43c0-b701-5049a1dd546c     160   91.01124         91.01124\n1052  045dd5e2-aea6-46d1-9cee-5e36176e3164     139   84.21053         96.36364\n1080  047176ea-c7c6-4ab5-92c1-7803667540cc     139   94.80519        104.05405\n1089  04784cdb-760b-4c48-a19b-85daa953790f     311   93.53741         94.09449\n1095  047be305-cbcc-4b16-b825-7c29ac95c04f     124   94.94949         97.95918\n1100  0483af7c-49d1-4639-8d24-b9673d475ef4     152   94.96104         98.05195\n1106  048aed55-5d93-4ae3-b451-66a3b47ad86a     120   95.00000        100.00000\n1109  048de202-23c0-4022-978a-5d2a611a39df     152   91.75258        102.17391\n1132  049f755a-5eb0-4d0b-9c82-f1b4b6b582a9     107   98.57143        101.44928\n1155  04b4076e-fdf7-4fb8-8073-0351ebc32ddd     118   95.78947        100.00000\n1201  04e05d30-f938-45ec-87e9-7a3edecbb604     146   91.86047         95.34884\n1202  04e0d9f0-5eb8-4df6-bf6d-263f2f106f69     138   91.17647         96.96970\n1220  04ef2916-ddfe-4667-966c-02ee45d2e3aa     145   88.54167        103.33333\n1273  052b4df8-91ce-48b6-a678-5c4d9ec4a2ca     120   92.94118        101.21951\n1383  05921b0a-0443-488d-b4ec-d48a716c7cba     100   96.10390         96.10390\n1490  05ff7c16-3386-4925-9e8d-7bf97e01d93c     122   97.10145        100.00000\n1493  0602419c-79f0-4069-ac95-6d69526fe77f     129   90.90909         95.91837\n1535  062e6447-0f62-4b3a-83d9-95964046a8a1     168   95.28302         98.09524\n1612  0690bcac-dc8d-460c-a827-f6e47f4789ca     118  100.00000        100.00000\n1636  06abb230-e7a1-4f7e-b2be-6c95e8592de8     187   93.45794        100.00000\n1737  07132741-1463-4e24-84a8-e5ac26a1fa8a     161   92.98246        101.81818\n1787  07476b92-65ec-4e7b-af55-6b3ebd3d5b28     168   96.26168        100.95238\n1876  07971997-8c19-416c-af8e-37c5cfd5912d     147   94.79167         98.94737\n1894  07a3d4f9-5f1e-4eab-b48b-096a53a58c40     125   90.10989         93.33333\n1978  0800db86-e05e-4101-9c12-90b39018a478     137   97.14286        100.00000\n2026  083b751b-0672-4eb8-9dba-e16f19fbc56f     167   94.49541        101.86916\n2115  08a187b7-8171-4227-b710-e86e94e47666     163   84.46602        100.00000\n2209  08f94ff8-4ba5-407f-900f-74460b336a02     150   94.54545        112.43243\n2283  094a531c-90f0-48df-b266-3836b6ac485b     114   94.33962        103.96040\n2376  098e714c-3921-4405-9219-afe7992ac324     106  100.00000        100.00000\n2387  099baf91-5e22-4713-9f21-9af4f550de22     118   99.51557        100.74627\n2402  09abd272-7f38-461a-bca1-4d6bc849d502     130  100.00000        100.00000\n2410  09b17194-235a-42dd-b31a-38ebd2d54c8a     207   92.98079         98.75000\n2547  0a3df1d3-67df-43b0-b81c-0a358ad401cf     124   93.97590        105.06329\n2592  0a71f500-8949-4e4d-8979-64b896eda164     161   95.34884         98.83721\n2607  0a7d5aa8-72fe-452b-bdff-587c07814530     146   92.45283         98.09524\n2647  0aa30776-3888-4ece-98c2-6ced81503555     113   93.93939         98.46154"
     },
     "execution_count": 85,
     "metadata": {},
     "output_type": "execute_result"
    }
   ],
   "source": [
    "import pandas as pd\n",
    "import sys\n",
    "import collections\n",
    "\n",
    "\n",
    "#sketch file with the results from alignment \n",
    "path = '/media/victor/USB/MSc_basecall/Data/3XR6/fastas_noTrim_full/1a-42k'\n",
    "read_alignment_file = path + '/1a-42k_result/1a-42k_reads.tsv'\n",
    "# basecalled file\n",
    "bc_file = path + '/out.fasta'\n",
    "# time taken to basecall the folder\n",
    "caller_time = path + '/caller_time.out'\n",
    "\n",
    "\n",
    "\n",
    "metrics = {}\n",
    "\n",
    "###### Alignment results\n",
    "df = pd.read_csv(read_alignment_file, header=0, sep='\\t')\n",
    "identities = df['Identity']\n",
    "# the proportion of reads that were not properly aligned\n",
    "metrics['no_match_ratio'] = len(identities[identities==0]) / len(identities)\n",
    "# mean identity rate overall\n",
    "metrics['global_mean_identity'] = identities.mean()\n",
    "# mean identity rate of matched sequences\n",
    "metrics['match_mean_identity'] = identities[identities>0].mean()\n",
    "\n",
    "\n",
    "###### Length statistics\n",
    "lengths = df['Length']\n",
    "metrics['mean_read_length'] = lengths.mean()\n",
    "metrics['median_read_length'] = lengths.median()\n",
    "metrics['var_read_length'] = lengths.var()\n",
    "\n",
    "\n",
    "with open(bc_file, 'r') as inputfile:\n",
    "    count = 0\n",
    "    for line in inputfile:\n",
    "        line = line.strip()\n",
    "        if(line[0]=='>'):\n",
    "            count+=1\n",
    "\n",
    "df[df['Identity']>0].iloc[:50]"
   ]
  },
  {
   "cell_type": "code",
   "execution_count": 34,
   "metadata": {},
   "outputs": [
    {
     "data": {
      "image/png": "[encoded data removed]",
      "text/plain": "<Figure size 432x288 with 1 Axes>"
     },
     "metadata": {
      "needs_background": "light"
     },
     "output_type": "display_data"
    },
    {
     "data": {
      "image/png": "[encoded data removed]",
      "text/plain": "<Figure size 432x288 with 1 Axes>"
     },
     "metadata": {
      "needs_background": "light"
     },
     "output_type": "display_data"
    }
   ],
   "source": [
    "import numpy as np\n",
    "import torch\n",
    "import matplotlib.pyplot as plt\n",
    "\n",
    "fig = plt.figure()\n",
    "\n",
    "# array of epochs\n",
    "epoch_array = np.arange(100)\n",
    "a = epoch_array + 10\n",
    "b = 0.1*epoch_array + 10\n",
    "\n",
    "# Total loss\n",
    "plt.plot(epoch_array, epoch_array, color = 'b', label='train')\n",
    "plt.plot(epoch_array, a, color = 'r', label='test')\n",
    "plt.title('Total loss')\n",
    "plt.xlabel(\"epoch\")\n",
    "plt.ylabel(\"loss\")\n",
    "plt.legend(bbox_to_anchor=(1.05, 1), loc='upper left', borderaxespad=0.)\n",
    "plt.show()\n",
    "\n",
    "# Reconstruction loss\n",
    "plt.plot(epoch_array, epoch_array, color = 'b', label='train')\n",
    "plt.plot(epoch_array, b, color = 'r', label='test')\n",
    "plt.title('Reconstruction loss')\n",
    "plt.xlabel(\"epoch\")\n",
    "plt.ylabel(\"loss\")\n",
    "plt.legend(bbox_to_anchor=(1.05, 1), loc='upper left', borderaxespad=0.)\n",
    "plt.show()\n",
    "\n",
    "fig.savefig('temp.png', dpi=fig.dpi)"
   ]
  },
  {
   "cell_type": "code",
   "execution_count": 36,
   "metadata": {},
   "outputs": [
    {
     "name": "stdout",
     "output_type": "stream",
     "text": [
      "1\n"
     ]
    }
   ],
   "source": [
    "BLANK = 0\n",
    "A = 1\n",
    "T = 2\n",
    "C = 3\n",
    "G = 4\n",
    "PAD = 5   # padding\n",
    "BASE_DIC = {'A': A, 'T': T, 'C': C, 'G': G}\n",
    "a = BASE_DIC.get('A')\n",
    "print(a)"
   ]
  },
  {
   "cell_type": "code",
   "execution_count": 1,
   "metadata": {},
   "outputs": [
    {
     "data": {
      "text/plain": "94585460704032"
     },
     "execution_count": 1,
     "metadata": {},
     "output_type": "execute_result"
    }
   ],
   "source": [
    "''' translate a string sequence to the corresponding int sequence according to a dic'''\n",
    "def get_int_ref_seq(ref_sequence, BASE_DIC):\n",
    "    ref_seq_int = []\n",
    "    for base in ref_sequence:\n",
    "        int_base = BASE_DIC.get(base)\n",
    "        ref_seq_int.append(int_base)\n",
    "    ref_seq_int = np.array(ref_seq_int)\n",
    "    return(ref_seq_int)\n",
    "\n",
    "a = 2\n",
    "id(a)\n",
    "\n"
   ]
  },
  {
   "cell_type": "code",
   "execution_count": 9,
   "metadata": {},
   "outputs": [
    {
     "name": "stdout",
     "output_type": "stream",
     "text": [
      "['FAN19503_60cb669d_15.fast5', '3a1369d0-531d-4ae0-9754-efc2af1e9495', '60cb669de45a06e721aea1e95f806f96ca22ece8', '0', '175', '4', '4639.448750', '1.433250', '1146', 'FALSE', '4639.563750', '1054', '1.318250', '188', '6.535500', '2.217550', '70.163544', '10.604062', '70.163544', '10.604062']\n",
      "['FAN19503_60cb669d_15.fast5', 'f2f3aa9b-9f1c-499c-abac-ea01c7944735', '60cb669de45a06e721aea1e95f806f96ca22ece8', '0', '299', '4', '4811.380000', '1.491500', '1193', 'FALSE', '4811.380000', '1193', '1.491500', '305', '6.760495', '2.252614', '81.651283', '15.199156', '81.651283', '15.199156']\n"
     ]
    }
   ],
   "source": [
    "sequencing_summary_text = \"/media/victor/USB/MSc_basecall/Data/3XR6/guppy/guppy_FILTERED_all/sequencing_summary.txt\"\n",
    "\n",
    "dic_pass_fail = {}\n",
    "with open(sequencing_summary_text, 'r') as summary:\n",
    "       for idx, line in enumerate(summary):\n",
    "              if idx == 0:\n",
    "                     continue\n",
    "              elif idx == 1 or idx == 2:\n",
    "                     line = line.split()\n",
    "                     print(line)\n",
    "              else:\n",
    "                     break\n",
    "\n",
    "\n",
    "                     \n",
    "       \n"
   ]
  },
  {
   "cell_type": "code",
   "execution_count": 16,
   "metadata": {},
   "outputs": [
    {
     "ename": "KeyError",
     "evalue": "'Unable to open object (component not found)'",
     "output_type": "error",
     "traceback": [
      "\u001b[0;31m---------------------------------------------------------------------------\u001b[0m",
      "\u001b[0;31mKeyError\u001b[0m                                  Traceback (most recent call last)",
      "\u001b[0;32m<ipython-input-16-f0d88f092afd>\u001b[0m in \u001b[0;36m<module>\u001b[0;34m\u001b[0m\n\u001b[1;32m     10\u001b[0m \u001b[0;31m# Get raw data\u001b[0m\u001b[0;34m\u001b[0m\u001b[0;34m\u001b[0m\u001b[0;34m\u001b[0m\u001b[0m\n\u001b[1;32m     11\u001b[0m \u001b[0;34m\u001b[0m\u001b[0m\n\u001b[0;32m---> 12\u001b[0;31m \u001b[0mread\u001b[0m \u001b[0;34m=\u001b[0m \u001b[0mfast5_data\u001b[0m\u001b[0;34m[\u001b[0m\u001b[0;34m'Raw/Reads'\u001b[0m\u001b[0;34m]\u001b[0m\u001b[0;34m\u001b[0m\u001b[0;34m\u001b[0m\u001b[0m\n\u001b[0m\u001b[1;32m     13\u001b[0m \u001b[0mread_id\u001b[0m \u001b[0;34m=\u001b[0m \u001b[0mread\u001b[0m\u001b[0;34m[\u001b[0m\u001b[0mlist\u001b[0m\u001b[0;34m(\u001b[0m\u001b[0mread\u001b[0m\u001b[0;34m.\u001b[0m\u001b[0mkeys\u001b[0m\u001b[0;34m(\u001b[0m\u001b[0;34m)\u001b[0m\u001b[0;34m)\u001b[0m\u001b[0;34m[\u001b[0m\u001b[0;36m0\u001b[0m\u001b[0;34m]\u001b[0m\u001b[0;34m]\u001b[0m\u001b[0;34m.\u001b[0m\u001b[0mattrs\u001b[0m\u001b[0;34m[\u001b[0m\u001b[0;34m'read_id'\u001b[0m\u001b[0;34m]\u001b[0m\u001b[0;34m.\u001b[0m\u001b[0mdecode\u001b[0m\u001b[0;34m(\u001b[0m\u001b[0;34m'UTF-8'\u001b[0m\u001b[0;34m)\u001b[0m\u001b[0;34m\u001b[0m\u001b[0;34m\u001b[0m\u001b[0m\n\u001b[1;32m     14\u001b[0m \u001b[0mraw_attr\u001b[0m \u001b[0;34m=\u001b[0m \u001b[0mfast5_data\u001b[0m\u001b[0;34m[\u001b[0m\u001b[0;34m'Raw/Reads/'\u001b[0m\u001b[0;34m]\u001b[0m\u001b[0;34m\u001b[0m\u001b[0;34m\u001b[0m\u001b[0m\n",
      "\u001b[0;32mh5py/_objects.pyx\u001b[0m in \u001b[0;36mh5py._objects.with_phil.wrapper\u001b[0;34m()\u001b[0m\n",
      "\u001b[0;32mh5py/_objects.pyx\u001b[0m in \u001b[0;36mh5py._objects.with_phil.wrapper\u001b[0;34m()\u001b[0m\n",
      "\u001b[0;32m/media/victor/USB/anaconda3/lib/python3.7/site-packages/h5py/_hl/group.py\u001b[0m in \u001b[0;36m__getitem__\u001b[0;34m(self, name)\u001b[0m\n\u001b[1;32m    175\u001b[0m                 \u001b[0;32mraise\u001b[0m \u001b[0mValueError\u001b[0m\u001b[0;34m(\u001b[0m\u001b[0;34m\"Invalid HDF5 object reference\"\u001b[0m\u001b[0;34m)\u001b[0m\u001b[0;34m\u001b[0m\u001b[0;34m\u001b[0m\u001b[0m\n\u001b[1;32m    176\u001b[0m         \u001b[0;32melse\u001b[0m\u001b[0;34m:\u001b[0m\u001b[0;34m\u001b[0m\u001b[0;34m\u001b[0m\u001b[0m\n\u001b[0;32m--> 177\u001b[0;31m             \u001b[0moid\u001b[0m \u001b[0;34m=\u001b[0m \u001b[0mh5o\u001b[0m\u001b[0;34m.\u001b[0m\u001b[0mopen\u001b[0m\u001b[0;34m(\u001b[0m\u001b[0mself\u001b[0m\u001b[0;34m.\u001b[0m\u001b[0mid\u001b[0m\u001b[0;34m,\u001b[0m \u001b[0mself\u001b[0m\u001b[0;34m.\u001b[0m\u001b[0m_e\u001b[0m\u001b[0;34m(\u001b[0m\u001b[0mname\u001b[0m\u001b[0;34m)\u001b[0m\u001b[0;34m,\u001b[0m \u001b[0mlapl\u001b[0m\u001b[0;34m=\u001b[0m\u001b[0mself\u001b[0m\u001b[0;34m.\u001b[0m\u001b[0m_lapl\u001b[0m\u001b[0;34m)\u001b[0m\u001b[0;34m\u001b[0m\u001b[0;34m\u001b[0m\u001b[0m\n\u001b[0m\u001b[1;32m    178\u001b[0m \u001b[0;34m\u001b[0m\u001b[0m\n\u001b[1;32m    179\u001b[0m         \u001b[0motype\u001b[0m \u001b[0;34m=\u001b[0m \u001b[0mh5i\u001b[0m\u001b[0;34m.\u001b[0m\u001b[0mget_type\u001b[0m\u001b[0;34m(\u001b[0m\u001b[0moid\u001b[0m\u001b[0;34m)\u001b[0m\u001b[0;34m\u001b[0m\u001b[0;34m\u001b[0m\u001b[0m\n",
      "\u001b[0;32mh5py/_objects.pyx\u001b[0m in \u001b[0;36mh5py._objects.with_phil.wrapper\u001b[0;34m()\u001b[0m\n",
      "\u001b[0;32mh5py/_objects.pyx\u001b[0m in \u001b[0;36mh5py._objects.with_phil.wrapper\u001b[0;34m()\u001b[0m\n",
      "\u001b[0;32mh5py/h5o.pyx\u001b[0m in \u001b[0;36mh5py.h5o.open\u001b[0;34m()\u001b[0m\n",
      "\u001b[0;31mKeyError\u001b[0m: 'Unable to open object (component not found)'"
     ]
    }
   ],
   "source": [
    "import h5py\n",
    "\n",
    "fast5_fn = \"/media/victor/USB/MSc_basecall/Data/3XR6/fast5s/fast5s_filtered_long_resquiggle/one/1a-42k/file_0.fast5\"\n",
    "\n",
    "try:\n",
    "    fast5_data = h5py.File(fast5_fn, 'r')\n",
    "except IOError:\n",
    "    raise IOError('Error opening file. Likely a corrupted file.')\n",
    "\n",
    "# Get raw data\n",
    "\n",
    "read = fast5_data['Raw/Reads']\n",
    "read_id = read[list(read.keys())[0]].attrs['read_id'].decode('UTF-8')\n",
    "raw_attr = fast5_data['Raw/Reads/']\n",
    "print(raw_attr)\n",
    "print(read_id)\n",
    "read_name = list(raw_attr.keys())[0]\n",
    "raw_dat = raw_attr[read_name + '/Signal'][()]\n",
    "print(raw_dat.shape)\n",
    "\n"
   ]
  },
  {
   "cell_type": "code",
   "execution_count": 20,
   "metadata": {},
   "outputs": [
    {
     "data": {
      "text/plain": "['/media/victor/USB/MSc_basecall/Data/3XR6/fast5s/fast5s_filtered_long_resquiggle/multi/1a-42k/32',\n '/media/victor/USB/MSc_basecall/Data/3XR6/fast5s/fast5s_filtered_long_resquiggle/multi/1a-42k/0',\n '/media/victor/USB/MSc_basecall/Data/3XR6/fast5s/fast5s_filtered_long_resquiggle/multi/1a-42k/38',\n '/media/victor/USB/MSc_basecall/Data/3XR6/fast5s/fast5s_filtered_long_resquiggle/multi/1a-42k/14',\n '/media/victor/USB/MSc_basecall/Data/3XR6/fast5s/fast5s_filtered_long_resquiggle/multi/1a-42k/8',\n '/media/victor/USB/MSc_basecall/Data/3XR6/fast5s/fast5s_filtered_long_resquiggle/multi/1a-42k/17',\n '/media/victor/USB/MSc_basecall/Data/3XR6/fast5s/fast5s_filtered_long_resquiggle/multi/1a-42k/36',\n '/media/victor/USB/MSc_basecall/Data/3XR6/fast5s/fast5s_filtered_long_resquiggle/multi/1a-42k/31',\n '/media/victor/USB/MSc_basecall/Data/3XR6/fast5s/fast5s_filtered_long_resquiggle/multi/1a-42k/30',\n '/media/victor/USB/MSc_basecall/Data/3XR6/fast5s/fast5s_filtered_long_resquiggle/multi/1a-42k/20',\n '/media/victor/USB/MSc_basecall/Data/3XR6/fast5s/fast5s_filtered_long_resquiggle/multi/1a-42k/9',\n '/media/victor/USB/MSc_basecall/Data/3XR6/fast5s/fast5s_filtered_long_resquiggle/multi/1a-42k/5',\n '/media/victor/USB/MSc_basecall/Data/3XR6/fast5s/fast5s_filtered_long_resquiggle/multi/1a-42k/18',\n '/media/victor/USB/MSc_basecall/Data/3XR6/fast5s/fast5s_filtered_long_resquiggle/multi/1a-42k/37',\n '/media/victor/USB/MSc_basecall/Data/3XR6/fast5s/fast5s_filtered_long_resquiggle/multi/1a-42k/12',\n '/media/victor/USB/MSc_basecall/Data/3XR6/fast5s/fast5s_filtered_long_resquiggle/multi/1a-42k/7',\n '/media/victor/USB/MSc_basecall/Data/3XR6/fast5s/fast5s_filtered_long_resquiggle/multi/1a-42k/25',\n '/media/victor/USB/MSc_basecall/Data/3XR6/fast5s/fast5s_filtered_long_resquiggle/multi/1a-42k/35',\n '/media/victor/USB/MSc_basecall/Data/3XR6/fast5s/fast5s_filtered_long_resquiggle/multi/1a-42k/34',\n '/media/victor/USB/MSc_basecall/Data/3XR6/fast5s/fast5s_filtered_long_resquiggle/multi/1a-42k/28',\n '/media/victor/USB/MSc_basecall/Data/3XR6/fast5s/fast5s_filtered_long_resquiggle/multi/1a-42k/19',\n '/media/victor/USB/MSc_basecall/Data/3XR6/fast5s/fast5s_filtered_long_resquiggle/multi/1a-42k/33',\n '/media/victor/USB/MSc_basecall/Data/3XR6/fast5s/fast5s_filtered_long_resquiggle/multi/1a-42k/39',\n '/media/victor/USB/MSc_basecall/Data/3XR6/fast5s/fast5s_filtered_long_resquiggle/multi/1a-42k/23',\n '/media/victor/USB/MSc_basecall/Data/3XR6/fast5s/fast5s_filtered_long_resquiggle/multi/1a-42k/22',\n '/media/victor/USB/MSc_basecall/Data/3XR6/fast5s/fast5s_filtered_long_resquiggle/multi/1a-42k/21',\n '/media/victor/USB/MSc_basecall/Data/3XR6/fast5s/fast5s_filtered_long_resquiggle/multi/1a-42k/26',\n '/media/victor/USB/MSc_basecall/Data/3XR6/fast5s/fast5s_filtered_long_resquiggle/multi/1a-42k/27',\n '/media/victor/USB/MSc_basecall/Data/3XR6/fast5s/fast5s_filtered_long_resquiggle/multi/1a-42k/10',\n '/media/victor/USB/MSc_basecall/Data/3XR6/fast5s/fast5s_filtered_long_resquiggle/multi/1a-42k/15',\n '/media/victor/USB/MSc_basecall/Data/3XR6/fast5s/fast5s_filtered_long_resquiggle/multi/1a-42k/3',\n '/media/victor/USB/MSc_basecall/Data/3XR6/fast5s/fast5s_filtered_long_resquiggle/multi/1a-42k/13',\n '/media/victor/USB/MSc_basecall/Data/3XR6/fast5s/fast5s_filtered_long_resquiggle/multi/1a-42k/4',\n '/media/victor/USB/MSc_basecall/Data/3XR6/fast5s/fast5s_filtered_long_resquiggle/multi/1a-42k/6',\n '/media/victor/USB/MSc_basecall/Data/3XR6/fast5s/fast5s_filtered_long_resquiggle/multi/1a-42k/16',\n '/media/victor/USB/MSc_basecall/Data/3XR6/fast5s/fast5s_filtered_long_resquiggle/multi/1a-42k/filename_mapping.txt',\n '/media/victor/USB/MSc_basecall/Data/3XR6/fast5s/fast5s_filtered_long_resquiggle/multi/1a-42k/1',\n '/media/victor/USB/MSc_basecall/Data/3XR6/fast5s/fast5s_filtered_long_resquiggle/multi/1a-42k/29',\n '/media/victor/USB/MSc_basecall/Data/3XR6/fast5s/fast5s_filtered_long_resquiggle/multi/1a-42k/11',\n '/media/victor/USB/MSc_basecall/Data/3XR6/fast5s/fast5s_filtered_long_resquiggle/multi/1a-42k/24',\n '/media/victor/USB/MSc_basecall/Data/3XR6/fast5s/fast5s_filtered_long_resquiggle/multi/1a-42k/2']"
     },
     "execution_count": 20,
     "metadata": {},
     "output_type": "execute_result"
    }
   ],
   "source": [
    "import glob\n",
    "\n",
    "inputname = \"/media/victor/USB/MSc_basecall/Data/3XR6/fast5s/fast5s_filtered_long_resquiggle/multi/1a-42k/\"\n",
    "folders = glob.glob(inputname + \"/*\")\n",
    "folders"
   ]
  },
  {
   "cell_type": "code",
   "execution_count": 38,
   "metadata": {},
   "outputs": [
    {
     "name": "stdout",
     "output_type": "stream",
     "text": [
      "Analyses\n",
      "done\n"
     ]
    }
   ],
   "source": [
    "import h5py\n",
    "from shutil import copyfile\n",
    "\n",
    "\n",
    "def copy(fast5File, out_f5):\n",
    "    assert out_f5.endswith('fast5')\n",
    "    if not fast5File.endswith('fast5'):\n",
    "        print(\"Not a fast5 file\")\n",
    "        return\n",
    "    try:\n",
    "        fast5_data = h5py.File(fast5File, 'r')\n",
    "    except IOError:\n",
    "        print('Error opening file')\n",
    "        return\n",
    "    print(list(fast5_data.items())[0][0])       \n",
    "    #### write\n",
    "    copyfile(fast5File, out_f5)\n",
    "    fast5_data.close()\n",
    "    print('done')\n",
    "\n",
    "fast5File = \"/home/victor/Desktop/out/in.fast5\"\n",
    "out_f5 = \"/home/victor/Desktop/out/out.fast5\"\n",
    "copy(fast5File, out_f5)\n",
    "\n"
   ]
  },
  {
   "cell_type": "code",
   "execution_count": 45,
   "metadata": {},
   "outputs": [
    {
     "name": "stdout",
     "output_type": "stream",
     "text": [
      "[0 1 2 3 4 5 6 7 8 9]\n"
     ]
    },
    {
     "data": {
      "text/plain": "array([8, 1, 5, 0, 7, 2, 9, 4, 3, 6])"
     },
     "execution_count": 45,
     "metadata": {},
     "output_type": "execute_result"
    }
   ],
   "source": [
    "import numpy as np\n",
    "np.random.seed(42)\n",
    "\n",
    "l = np.arange(10)\n",
    "print(l)\n",
    "np.random.shuffle(l)\n",
    "l\n",
    "\n"
   ]
  },
  {
   "cell_type": "code",
   "execution_count": null,
   "metadata": {},
   "outputs": [],
   "source": []
  },
  {
   "cell_type": "code",
   "execution_count": null,
   "metadata": {},
   "outputs": [],
   "source": []
  },
  {
   "cell_type": "code",
   "execution_count": null,
   "metadata": {},
   "outputs": [],
   "source": []
  }
 ],
 "metadata": {
  "kernelspec": {
   "display_name": "Python 3.6.9 64-bit",
   "name": "python369jvsc74a57bd031f2aee4e71d21fbe5cf8b01ff0e069b9275f58929596ceb00d14d90e3e16cd6"
  },
  "language_info": {
   "name": "python",
   "version": ""
  },
  "metadata": {
   "interpreter": {
    "hash": "31f2aee4e71d21fbe5cf8b01ff0e069b9275f58929596ceb00d14d90e3e16cd6"
   }
  },
  "orig_nbformat": 2
 },
 "nbformat": 4,
 "nbformat_minor": 2
}