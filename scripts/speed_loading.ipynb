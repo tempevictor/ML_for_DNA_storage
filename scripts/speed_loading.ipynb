{
 "cells": [
  {
   "cell_type": "markdown",
   "metadata": {},
   "source": [
    "## Loading Speed"
   ]
  },
  {
   "cell_type": "markdown",
   "metadata": {},
   "source": [
    "### Imports"
   ]
  },
  {
   "cell_type": "code",
   "execution_count": 1,
   "metadata": {},
   "outputs": [
    {
     "data": {
      "text/plain": "''"
     },
     "execution_count": 1,
     "metadata": {},
     "output_type": "execute_result"
    }
   ],
   "source": [
    "import numpy as np\n",
    "import h5py\n",
    "import os\n",
    "import sys\n",
    "import glob\n",
    "import tkinter as tk\n",
    "from tkinter import filedialog\n",
    "import matplotlib.pyplot as plt\n",
    "import time\n",
    "\n",
    "root = tk.Tk()\n",
    "root.withdraw()"
   ]
  },
  {
   "cell_type": "markdown",
   "metadata": {},
   "source": [
    "### Load Speed Compare"
   ]
  },
  {
   "cell_type": "code",
   "execution_count": 15,
   "metadata": {},
   "outputs": [],
   "source": [
    "# computes how long it takes to load the entire dataset\n",
    "def load_time(folder, f5_type):\n",
    "    read_count = 0\n",
    "    sig_list =  []\n",
    "    files = glob.glob(folder + \"/*.fast5\")\n",
    "    if f5_type == 'multi':\n",
    "        start_time = time.time()\n",
    "        for fast5File in files:\n",
    "\n",
    "            if not fast5File.endswith('fast5'):\n",
    "                print(\"Not a fast5 file\")\n",
    "                return\n",
    "            try:\n",
    "                fast5_data = h5py.File(fast5File, 'r')\n",
    "            except IOError:\n",
    "                print('Error opening file')\n",
    "                return\n",
    "\n",
    "            \n",
    "            read_list = list(fast5_data.items())\n",
    "            for i in range(len(read_list)):\n",
    "                readstep = (read_list[i])\n",
    "                read = readstep[0]\n",
    "                signal_path = read + '/Raw/Signal'                \n",
    "                raw_signal = np.array(fast5_data.get(signal_path), dtype=np.float32)\n",
    "                sig_list.append(raw_signal)\n",
    "                read_count += 1\n",
    "            fast5_data.close()\n",
    "\n",
    "\n",
    "    elif f5_type == 'single':\n",
    "        start_time = time.time()\n",
    "        for fast5File in files:\n",
    "\n",
    "            if not fast5File.endswith('fast5'):\n",
    "                print(\"Not a fast5 file\")\n",
    "                return\n",
    "            try:\n",
    "                fast5_data = h5py.File(fast5File, 'r')\n",
    "            except IOError:\n",
    "                print('Error opening file')\n",
    "                return\n",
    "\n",
    "            raw_attr = fast5_data['Raw/Reads/']\n",
    "            read_name = list(raw_attr.keys())[0]\n",
    "            raw_dat = raw_attr[read_name + '/Signal'][()]\n",
    "            # get the signal\n",
    "            \n",
    "            raw_signal = np.array(raw_dat, dtype=np.float32)\n",
    "            sig_list.append(raw_signal)\n",
    "            read_count += 1\n",
    "            fast5_data.close()\n",
    "\n",
    "    \n",
    "    else:\n",
    "        print(\"Unknown f5 type\")\n",
    "        return \n",
    "\n",
    "    time_tot = time.time() - start_time\n",
    "    return time_tot, read_count\n",
    "\n",
    "           \n",
    "\n",
    "      "
   ]
  },
  {
   "cell_type": "code",
   "execution_count": 20,
   "metadata": {},
   "outputs": [
    {
     "name": "stdout",
     "output_type": "stream",
     "text": [
      "Time single  50.15930724143982\n",
      "Time multi  31.438742876052856\n",
      "Count single  48912\n",
      "Count multi  48912\n"
     ]
    }
   ],
   "source": [
    "path_single = \"/media/victor/USB/MSc_basecall/Data/3XR6/datasets/dataset_resquiggle_256/fast5s_single/train\"\n",
    "path_multi = \"/media/victor/USB/MSc_basecall/Data/3XR6/datasets/dataset_resquiggle_256/fast5s_multi/train\"\n",
    "\n",
    "\n",
    "time_single, count_single = load_time(path_single, \"single\")\n",
    "time_multi, count_multi = load_time(path_multi, \"multi\")\n",
    "\n",
    "\n",
    "\n",
    "print(\"Time single \", time_single)\n",
    "print(\"Time multi \", time_multi)\n",
    "\n",
    "\n",
    "print(\"Count single \", count_single)\n",
    "print(\"Count multi \", count_multi)\n",
    "\n",
    "\n"
   ]
  },
  {
   "cell_type": "code",
   "execution_count": 11,
   "metadata": {},
   "outputs": [
    {
     "name": "stdout",
     "output_type": "stream",
     "text": [
      "Time single  238.17252254486084\n",
      "Time multi  22.813627004623413\n"
     ]
    }
   ],
   "source": [
    "path_single = \"/media/victor/USB/MSc_basecall/Data/3XR6/datasets/dataset_resquiggle_256/fast5s_single/train\"\n",
    "path_multi = \"/media/victor/USB/MSc_basecall/Data/3XR6/datasets/dataset_resquiggle_256/fast5s_multi/train\"\n",
    "\n",
    "time_single = load_time(path_single, \"single\")\n",
    "time_multi = load_time(path_multi, \"multi\")\n",
    "\n",
    "print(\"Time single \", time_single)\n",
    "print(\"Time multi \", time_multi)\n"
   ]
  },
  {
   "cell_type": "code",
   "execution_count": null,
   "metadata": {},
   "outputs": [],
   "source": []
  }
 ],
 "metadata": {
  "kernelspec": {
   "display_name": "Python 3.7.7 64-bit ('base': conda)",
   "name": "python377jvsc74a57bd01542ee2726d20ca6ce38c73be6f1d0781bc1da10a4a2880694256f254b885628"
  },
  "language_info": {
   "codemirror_mode": {
    "name": "ipython",
    "version": 3
   },
   "file_extension": ".py",
   "mimetype": "text/x-python",
   "name": "python",
   "nbconvert_exporter": "python",
   "pygments_lexer": "ipython3",
   "version": "3.7.7"
  },
  "orig_nbformat": 2
 },
 "nbformat": 4,
 "nbformat_minor": 2
}